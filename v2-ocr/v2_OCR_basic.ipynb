{
 "cells": [
  {
   "cell_type": "markdown",
   "metadata": {},
   "source": [
    "# Vežbe 2 - OCR (Optical Character Recognition)"
   ]
  },
  {
   "cell_type": "markdown",
   "metadata": {},
   "source": [
    "Cilj ovih vežbi je implementacija osnovne verzije OCR-a i upoznavanje sa Keras okruženjem za rad sa neuronskim mrežama.\n",
    "\n",
    "* Keras - Python biblioteka za laku implementaciju neuronski mreža (http://keras.io/)\n",
    "\n"
   ]
  },
  {
   "cell_type": "markdown",
   "metadata": {},
   "source": [
    "### Tok aktivnosti implementacije OCR - a \n",
    "\n",
    "Tok aktivnosti predstavlja korake koje je potrebno izvršiti prilikom implementacije OCR-a.\n",
    "\n",
    "<img src=\"images/Tok aktivnosti.png\">"
   ]
  },
  {
   "cell_type": "markdown",
   "metadata": {
    "collapsed": true
   },
   "source": [
    "### Početak implementacije\n",
    "Skup biblioteka sa prethodnih vežbi smo proširili Keras bibliotekom za rad sa neuronskim mrežama."
   ]
  },
  {
   "cell_type": "code",
   "execution_count": 1,
   "metadata": {},
   "outputs": [
    {
     "name": "stderr",
     "output_type": "stream",
     "text": [
      "Using TensorFlow backend.\n",
      "/home/stefan/data/.virtualenvs/soft2021/lib/python3.6/site-packages/tensorflow/python/framework/dtypes.py:523: FutureWarning: Passing (type, 1) or '1type' as a synonym of type is deprecated; in a future version of numpy, it will be understood as (type, (1,)) / '(1,)type'.\n",
      "  _np_qint8 = np.dtype([(\"qint8\", np.int8, 1)])\n",
      "/home/stefan/data/.virtualenvs/soft2021/lib/python3.6/site-packages/tensorflow/python/framework/dtypes.py:524: FutureWarning: Passing (type, 1) or '1type' as a synonym of type is deprecated; in a future version of numpy, it will be understood as (type, (1,)) / '(1,)type'.\n",
      "  _np_quint8 = np.dtype([(\"quint8\", np.uint8, 1)])\n",
      "/home/stefan/data/.virtualenvs/soft2021/lib/python3.6/site-packages/tensorflow/python/framework/dtypes.py:525: FutureWarning: Passing (type, 1) or '1type' as a synonym of type is deprecated; in a future version of numpy, it will be understood as (type, (1,)) / '(1,)type'.\n",
      "  _np_qint16 = np.dtype([(\"qint16\", np.int16, 1)])\n",
      "/home/stefan/data/.virtualenvs/soft2021/lib/python3.6/site-packages/tensorflow/python/framework/dtypes.py:526: FutureWarning: Passing (type, 1) or '1type' as a synonym of type is deprecated; in a future version of numpy, it will be understood as (type, (1,)) / '(1,)type'.\n",
      "  _np_quint16 = np.dtype([(\"quint16\", np.uint16, 1)])\n",
      "/home/stefan/data/.virtualenvs/soft2021/lib/python3.6/site-packages/tensorflow/python/framework/dtypes.py:527: FutureWarning: Passing (type, 1) or '1type' as a synonym of type is deprecated; in a future version of numpy, it will be understood as (type, (1,)) / '(1,)type'.\n",
      "  _np_qint32 = np.dtype([(\"qint32\", np.int32, 1)])\n",
      "/home/stefan/data/.virtualenvs/soft2021/lib/python3.6/site-packages/tensorflow/python/framework/dtypes.py:532: FutureWarning: Passing (type, 1) or '1type' as a synonym of type is deprecated; in a future version of numpy, it will be understood as (type, (1,)) / '(1,)type'.\n",
      "  np_resource = np.dtype([(\"resource\", np.ubyte, 1)])\n"
     ]
    }
   ],
   "source": [
    "from __future__ import print_function\n",
    "#import potrebnih biblioteka\n",
    "%matplotlib inline\n",
    "import cv2\n",
    "import numpy as np \n",
    "import matplotlib.pyplot as plt \n",
    "import collections\n",
    "\n",
    "# keras\n",
    "from keras.models import Sequential\n",
    "from keras.layers.core import Dense,Activation\n",
    "from keras.optimizers import SGD\n",
    "\n",
    "import matplotlib.pylab as pylab\n",
    "pylab.rcParams['figure.figsize'] = 16, 12 # za prikaz većih slika i plotova, zakomentarisati ako nije potrebno"
   ]
  },
  {
   "cell_type": "markdown",
   "metadata": {},
   "source": [
    "## Korak 1 - 3\n",
    "Helper funkcije za rad sa slikama"
   ]
  },
  {
   "cell_type": "code",
   "execution_count": 2,
   "metadata": {},
   "outputs": [],
   "source": [
    "def load_image(path):\n",
    "    return cv2.cvtColor(cv2.imread(path), cv2.COLOR_BGR2RGB)\n",
    "def image_gray(image):\n",
    "    return cv2.cvtColor(image, cv2.COLOR_RGB2GRAY)\n",
    "def image_bin(image_gs):\n",
    "    ret,image_bin = cv2.threshold(image_gs, 127, 255, cv2.THRESH_BINARY)\n",
    "    return image_bin\n",
    "def invert(image):\n",
    "    return 255-image\n",
    "def display_image(image, color= False):\n",
    "    if color:\n",
    "        plt.imshow(image)\n",
    "    else:\n",
    "        plt.imshow(image, 'gray')\n",
    "def dilate(image):\n",
    "    kernel = np.ones((3,3)) # strukturni element 3x3 blok\n",
    "    return cv2.dilate(image, kernel, iterations=1)\n",
    "def erode(image):\n",
    "    kernel = np.ones((3,3)) # strukturni element 3x3 blok\n",
    "    return cv2.erode(image, kernel, iterations=1)"
   ]
  },
  {
   "cell_type": "markdown",
   "metadata": {},
   "source": [
    "### Korak 4 -  izdvajanje regiona od interesa\n",
    "\n",
    "U ovom koraku potrebno je izdvojiti samo regione(konture) od interesa. Potrebno je označiti regione od interesa na slici i napraviti listu slika od regiona koja će kasnije biti ulaz za neuronsku mrežu."
   ]
  },
  {
   "cell_type": "markdown",
   "metadata": {},
   "source": [
    "### Resize\n",
    "Potrebno je implementirati funkciju za promenu veličine slike na 28 x 28. Ovo se radi kako bi svi regioni koje ćemo koristiti za neuronsku mrežu bili iste veličine. *(pomoć: pogledati OpenCV funkciju resize)*"
   ]
  },
  {
   "cell_type": "code",
   "execution_count": 3,
   "metadata": {},
   "outputs": [],
   "source": [
    "def resize_region(region):\n",
    "    '''Transformisati selektovani region na sliku dimenzija 28x28'''\n",
    "    return cv2.resize(region,(28,28), interpolation = cv2.INTER_NEAREST)"
   ]
  },
  {
   "cell_type": "markdown",
   "metadata": {},
   "source": [
    "### Selekcija i izdvajanje regiona od interesa\n",
    "* Označiti regione od interesa na originalnoj slici.\n",
    "* Za svaki region napraviti posebnu sliku dimenzija 28 x 28. \n",
    "* Za označavanje regiona koristiti metodu cv2.boundingRect(contour).\n",
    "* Kao povratnu vrednost vratiti originalnu sliku na kojoj su obeleženi regioni (koristiti OpenCV funkciju **rectangle**) i niz slika koje predstavljaju regione sortirane  po rastućoj vrednosti x ose"
   ]
  },
  {
   "cell_type": "code",
   "execution_count": 4,
   "metadata": {},
   "outputs": [],
   "source": [
    "def select_roi(image_orig, image_bin):\n",
    "    '''Oznaciti regione od interesa na originalnoj slici. (ROI = regions of interest)\n",
    "        Za svaki region napraviti posebnu sliku dimenzija 28 x 28. \n",
    "        Za označavanje regiona koristiti metodu cv2.boundingRect(contour).\n",
    "        Kao povratnu vrednost vratiti originalnu sliku na kojoj su obeleženi regioni\n",
    "        i niz slika koje predstavljaju regione sortirane po rastućoj vrednosti x ose\n",
    "    '''\n",
    "    img, contours, hierarchy = cv2.findContours(image_bin.copy(), cv2.RETR_LIST, cv2.CHAIN_APPROX_SIMPLE)\n",
    "    sorted_regions = [] # lista sortiranih regiona po x osi (sa leva na desno)\n",
    "    regions_array = []\n",
    "    for contour in contours: \n",
    "        x,y,w,h = cv2.boundingRect(contour) #koordinate i velicina granicnog pravougaonika\n",
    "        area = cv2.contourArea(contour)\n",
    "        if area > 100 and h < 100 and h > 15 and w > 20:\n",
    "            # kopirati [y:y+h+1, x:x+w+1] sa binarne slike i smestiti u novu sliku\n",
    "            # označiti region pravougaonikom na originalnoj slici (image_orig) sa rectangle funkcijom\n",
    "            region = image_bin[y:y+h+1,x:x+w+1]\n",
    "            regions_array.append([resize_region(region), (x,y,w,h)])       \n",
    "            cv2.rectangle(image_orig,(x,y),(x+w,y+h),(0,255,0),2)\n",
    "            \n",
    "    # sortirati sve regione po x osi (sa leva na desno) i smestiti u promenljivu sorted_regions\n",
    "    regions_array = sorted(regions_array, key=lambda item: item[1][0])\n",
    "    sorted_regions = [region[0] for region in regions_array]\n",
    "    \n",
    "    return image_orig, sorted_regions"
   ]
  },
  {
   "cell_type": "markdown",
   "metadata": {},
   "source": [
    "Obratite pažnju da se **koordinatni početak** u OpenCV biblioteci nalazi u **gornjem levom uglu**. Ovo može igrati bitnu ulogu kod manipulacije koordinatama.\n",
    "\n",
    "<img src=\"images/slovo.jpg\">"
   ]
  },
  {
   "cell_type": "markdown",
   "metadata": {},
   "source": [
    "## Korak 5\n",
    "\n",
    "Regioni od interesa su predstavljeni vektorom čiji su elementi matrice dimenzija 28x28. Elementi matrica su vrednosti 0 ili 255. Potrebno je skalirati vrednosti elemenata matrice na opseg od 0 do 1, kako bi se pogodio linearni deo sigmoid funkcije i smanjilo vreme obučavanja.\n",
    "Nakon skaliranja matrice je potrebno transformisati u vektor od 784 elementa."
   ]
  },
  {
   "cell_type": "markdown",
   "metadata": {},
   "source": [
    "### Skaliranje elemenata\n",
    "\n",
    "Skalirati sve elemente matrice sa celobrojnog opsega [0, 255] na realni opseg [0, 1]."
   ]
  },
  {
   "cell_type": "code",
   "execution_count": 5,
   "metadata": {},
   "outputs": [],
   "source": [
    "def scale_to_range(image): # skalira elemente slike na opseg od 0 do 1\n",
    "    ''' Elementi matrice image su vrednosti 0 ili 255. \n",
    "        Potrebno je skalirati sve elemente matrica na opseg od 0 do 1\n",
    "    '''\n",
    "    return image/255"
   ]
  },
  {
   "cell_type": "markdown",
   "metadata": {},
   "source": [
    "### Transformacija slike u vektor\n",
    "\n",
    "Region koji je zapravo slika (matrica) dimenzija 28x28 transformiati u vektor od 784 elementa."
   ]
  },
  {
   "cell_type": "code",
   "execution_count": 6,
   "metadata": {},
   "outputs": [],
   "source": [
    "def matrix_to_vector(image):\n",
    "    '''Sliku koja je zapravo matrica 28x28 transformisati u vektor sa 784 elementa'''\n",
    "    return image.flatten()"
   ]
  },
  {
   "cell_type": "markdown",
   "metadata": {},
   "source": [
    "### Priprema za neuronsku mrežu\n",
    "\n",
    "Svaki region pripremiti za ulaz na neuronsku mrežu: skaliranje elemenata na [0,1] i transformaciju u vektor."
   ]
  },
  {
   "cell_type": "code",
   "execution_count": 7,
   "metadata": {},
   "outputs": [],
   "source": [
    "def prepare_for_ann(regions):\n",
    "    '''Regioni su matrice dimenzija 28x28 čiji su elementi vrednosti 0 ili 255.\n",
    "        Potrebno je skalirati elemente regiona na [0,1] i transformisati ga u vektor od 784 elementa '''\n",
    "    ready_for_ann = []\n",
    "    for region in regions:\n",
    "        # skalirati elemente regiona \n",
    "        # region sa skaliranim elementima pretvoriti u vektor\n",
    "        # vektor dodati u listu spremnih regiona\n",
    "        scale = scale_to_range(region)\n",
    "        ready_for_ann.append(matrix_to_vector(scale))\n",
    "        \n",
    "    return ready_for_ann"
   ]
  },
  {
   "cell_type": "markdown",
   "metadata": {},
   "source": [
    "### Konverzija\n",
    "\n",
    "Konvertovati alfabet u niz pogodan za obučavanje NM, odnosno niz čiji su svi elementi 0 osim elementa čiji je indeks jednak indeksu elementa iz alfabeta za koji formiramo niz.\n",
    "Primer prvi element iz alfabeta [1,0,0,0,0,0,0,0,0,0], za drugi [0,1,0,0,0,0,0,0,0,0] itd.."
   ]
  },
  {
   "cell_type": "code",
   "execution_count": 8,
   "metadata": {},
   "outputs": [],
   "source": [
    "def convert_output(alphabet):\n",
    "    '''Konvertovati alfabet u niz pogodan za obučavanje NM,\n",
    "        odnosno niz čiji su svi elementi 0 osim elementa čiji je\n",
    "        indeks jednak indeksu elementa iz alfabeta za koji formiramo niz.\n",
    "        Primer prvi element iz alfabeta [1,0,0,0,0,0,0,0,0,0],\n",
    "        za drugi [0,1,0,0,0,0,0,0,0,0] itd..\n",
    "    '''\n",
    "    nn_outputs = []\n",
    "    for index in range(len(alphabet)):\n",
    "        output = np.zeros(len(alphabet))\n",
    "        output[index] = 1\n",
    "        nn_outputs.append(output)\n",
    "    return np.array(nn_outputs)"
   ]
  },
  {
   "cell_type": "markdown",
   "metadata": {},
   "source": [
    "## Obučavanje"
   ]
  },
  {
   "cell_type": "markdown",
   "metadata": {},
   "source": [
    "### Neuronska mreža\n",
    "\n",
    "Veštačka neuronska mreža se sastoji od 784 ulazna neurona, 128 neurona u skrivenom sloju i 10 neurona na izlazu. Zašto baš 784 neurona na ulazu i 10 neurona na izlazu? Regione smo transformisali prvo na matricu dimenzija 28x28,a zatim u vektor od 784 elementa. Što se tiče 10 neurona na izlazu, to je posledica broja znakova u alfabetu. U našem primeru alfabet (0,1,2,3,4,5,6,7,8,9) ima 10 elemenata pa nam je potrebno 10 neurona na izlazu.\n",
    "Neuronska mreža je implementirana pomoću Keras biblioteke.\n",
    "<img src=\"images/neuronska_mreza.png\">\n",
    "\n",
    "### Sigmoidalna aktivaciona funkcija\n",
    "$ sigm(x) = \\dfrac{1}{1 + e^{-x}} $\n",
    "\n",
    "<img src=\"https://upload.wikimedia.org/wikipedia/commons/thumb/8/88/Logistic-curve.svg/1920px-Logistic-curve.svg.png\" width=\"300\" height=\"300\">"
   ]
  },
  {
   "cell_type": "code",
   "execution_count": 9,
   "metadata": {},
   "outputs": [],
   "source": [
    "def create_ann():\n",
    "    '''Implementacija veštačke neuronske mreže sa 784 neurona na uloznom sloju,\n",
    "        128 neurona u skrivenom sloju i 10 neurona na izlazu. Aktivaciona funkcija je sigmoid.\n",
    "    '''\n",
    "    ann = Sequential()\n",
    "    ann.add(Dense(128, input_dim=784, activation='sigmoid'))\n",
    "    ann.add(Dense(10, activation='sigmoid'))\n",
    "    return ann\n",
    "    \n",
    "def train_ann(ann, X_train, y_train):\n",
    "    '''Obucavanje vestacke neuronske mreze'''\n",
    "    X_train = np.array(X_train, np.float32) # dati ulazi\n",
    "    y_train = np.array(y_train, np.float32) # zeljeni izlazi za date ulaze\n",
    "   \n",
    "    # definisanje parametra algoritma za obucavanje\n",
    "    sgd = SGD(lr=0.01, momentum=0.9)\n",
    "    ann.compile(loss='mean_squared_error', optimizer=sgd)\n",
    "\n",
    "    # obucavanje neuronske mreze\n",
    "    ann.fit(X_train, y_train, epochs=500, batch_size=1, verbose = 0, shuffle=False) \n",
    "      \n",
    "    return ann"
   ]
  },
  {
   "cell_type": "markdown",
   "metadata": {},
   "source": [
    "## Korak 7 - određivanje pobedničkog neurona\n",
    "\n",
    "Određivanje pobedničkog neurona. Pobednički neuron je neuron čija je aktivaciona vrednost najveća. Npr. ako imamo dva neurona sa aktivacionim vrednostima 0.3 i 0.89, pobednik je drugi sa aktivacijom 0.89.\n",
    "\n",
    "\n",
    "Pronaći indeks neurona koji je najviše pobuđen.\n"
   ]
  },
  {
   "cell_type": "code",
   "execution_count": 10,
   "metadata": {},
   "outputs": [],
   "source": [
    "def winner(output): # output je vektor sa izlaza neuronske mreze\n",
    "    '''pronaći i vratiti indeks neurona koji je najviše pobuđen'''\n",
    "    return max(enumerate(output), key=lambda x: x[1])[0]"
   ]
  },
  {
   "cell_type": "markdown",
   "metadata": {},
   "source": [
    "## Korak 8 - prikaz rezultata\n",
    "\n",
    "Pikazati rezultat prepoznavanja neuronske mreže. Za svaki rezultat pronaći indeks pobedničkog  neurona koji ujedno predstavlja i indeks prepoznatog elementa u alfabetu. Dodati karakter iz alfabeta u result"
   ]
  },
  {
   "cell_type": "code",
   "execution_count": 11,
   "metadata": {},
   "outputs": [],
   "source": [
    "def display_result(outputs, alphabet):\n",
    "    '''za svaki rezultat pronaći indeks pobedničkog\n",
    "        regiona koji ujedno predstavlja i indeks u alfabetu.\n",
    "        Dodati karakter iz alfabet u result'''\n",
    "    result = []\n",
    "    for output in outputs:\n",
    "        result.append(alphabet[winner(output)])\n",
    "    return result"
   ]
  },
  {
   "cell_type": "markdown",
   "metadata": {},
   "source": [
    "## Start\n",
    "Učitati sliku za obučavanje veštačke neuronske mreže. Transformisati sliku i binarni oblik i označiti regione od interesa (u ovom slučaju to su brojevi od 0 do 9).\n",
    "Prikazati sliku sa označenim regionima od interesa."
   ]
  },
  {
   "cell_type": "code",
   "execution_count": 12,
   "metadata": {
    "scrolled": false
   },
   "outputs": [
    {
     "data": {
      "image/png": "[encoded data removed]",
      "text/plain": [
       "<Figure size 1152x864 with 1 Axes>"
      ]
     },
     "metadata": {
      "needs_background": "light"
     },
     "output_type": "display_data"
    }
   ],
   "source": [
    "image_color = load_image('images/brojevi.png')\n",
    "img = invert(image_bin(image_gray(image_color)))\n",
    "img_bin = erode(dilate(img))\n",
    "selected_regions, numbers = select_roi(image_color.copy(), img)\n",
    "display_image(selected_regions)"
   ]
  },
  {
   "cell_type": "code",
   "execution_count": 13,
   "metadata": {},
   "outputs": [],
   "source": [
    "# insert alphabet here\n",
    "alphabet = [0,1,2,3,4,5,6,7,8,9]"
   ]
  },
  {
   "cell_type": "code",
   "execution_count": 14,
   "metadata": {
    "scrolled": true
   },
   "outputs": [],
   "source": [
    "inputs = prepare_for_ann(numbers)\n",
    "outputs = convert_output(alphabet)\n",
    "ann = create_ann()\n",
    "ann = train_ann(ann, inputs, outputs)"
   ]
  },
  {
   "cell_type": "markdown",
   "metadata": {},
   "source": [
    "### Verifikacija i primer predikcije\n",
    "\n",
    "Za verifikaciju obučenosti neuronske mreže ćemo uzeti treći i četvrti ulazni vektor (brojevi 2 i 3 iz alfabeta).\n",
    "Metoda **model.predict** kao ulazni parametar prima niz vektora dimenzija 784.\n",
    "Rezultat **predict** metode je niz vektora dimenzije 10, koji sadrži koeficijente pobuđenosti."
   ]
  },
  {
   "cell_type": "code",
   "execution_count": 15,
   "metadata": {},
   "outputs": [
    {
     "name": "stdout",
     "output_type": "stream",
     "text": [
      "[[0.03788835 0.04360908 0.9034984  0.04002649 0.01669701 0.01199812\n",
      "  0.0099786  0.05225748 0.0407986  0.02303603]\n",
      " [0.02351159 0.0251779  0.03422694 0.89962894 0.03337499 0.05860098\n",
      "  0.01169838 0.03075312 0.05311413 0.02905773]]\n",
      "[2, 3]\n"
     ]
    }
   ],
   "source": [
    "result = ann.predict(np.array(inputs[2:4], np.float32))\n",
    "print(result)\n",
    "print(display_result(result, alphabet))"
   ]
  },
  {
   "cell_type": "markdown",
   "metadata": {},
   "source": [
    "## Test\n",
    "\n",
    "Učitati sliku za testiranje rada OCR -a  'images/test.png'. Transformisati sliku u oblik pogodan za ulaz u neuronsku mrežu. \n",
    "Prikazati rezultate predikcije kao i sliku sa označenim regionima od interesa.\n",
    "\n",
    "PSEUDO KOD:\n",
    "* učitati sliku 'images/test.png'\n",
    "* pretvoriti sliku u binarnu i ako je potrebno invertovati je\n",
    "* ako je potrebno primeniti eroziju i/ili diletaciju\n",
    "* selektovati regione od značaja\n",
    "* pripremiti podatke za ulaz na NM\n",
    "* pozvati metodu **predict**, a kao parametar proslediti pripremljene podatke\n",
    "* prikazati rezultate predikcije\n"
   ]
  },
  {
   "cell_type": "code",
   "execution_count": 16,
   "metadata": {},
   "outputs": [
    {
     "name": "stdout",
     "output_type": "stream",
     "text": [
      "[2, 3, 5, 6, 8, 9, 1, 0]\n"
     ]
    },
    {
     "data": {
      "image/png": "[encoded data removed]",
      "text/plain": [
       "<Figure size 1152x864 with 1 Axes>"
      ]
     },
     "metadata": {
      "needs_background": "light"
     },
     "output_type": "display_data"
    }
   ],
   "source": [
    "test_color = load_image('images/test.png')\n",
    "test = invert(image_bin(image_gray(test_color)))\n",
    "test_bin = erode(dilate(test))\n",
    "selected_test, test_numbers = select_roi(test_color.copy(),test_bin)\n",
    "display_image(selected_test)\n",
    "test_inputs = prepare_for_ann(test_numbers)\n",
    "result = ann.predict(np.array(test_inputs, np.float32))\n",
    "print(display_result(result, alphabet))"
   ]
  },
  {
   "cell_type": "markdown",
   "metadata": {
    "collapsed": true
   },
   "source": [
    "### ZADATAK\n",
    "\n",
    "Implementirati kalkulator. Alfabet za kalkulator je 'images/kalkulator_alfabet.png', a test primeri su 'sabiranje.png', 'oduzimanje.png' i 'slozen_izraz.png' u folderu 'images'."
   ]
  },
  {
   "cell_type": "code",
   "execution_count": 17,
   "metadata": {},
   "outputs": [],
   "source": [
    "# TODO dodatno - kalkulator\n",
    "# PSEUDO KOD\n",
    "# UČITATI ALFABET ZA KALKULATOR (alfabet sadrži 14 karaktera)\n",
    "# PRETVORITI SLIKU U BINARNU I OZNAČITI REGIONE OD INTERESA select_roi\n",
    "# UNETI NOVI ALFABET\n",
    "# PRIPREMITI SELEKTOVANE REGIONE ZA OBUČAVANJE NEURONSKE MREŽE\n",
    "# KONVERTOVATI NOVI ALFABET ZA OBUČAVANJE NEURONSKE MREŽE\n",
    "# MODELOVATI PREŽU. NAPOMENA: PROVERITI DA LI JE BROJ IZLAZA ADEKVATNO POSTAVLJEN\n",
    "# KREIRATI PREŽU create_ann\n",
    "# OBUČITI MREŽU train_ann"
   ]
  }
 ],
 "metadata": {
  "anaconda-cloud": {},
  "kernelspec": {
   "display_name": "Python 3",
   "language": "python",
   "name": "python3"
  },
  "language_info": {
   "codemirror_mode": {
    "name": "ipython",
    "version": 3
   },
   "file_extension": ".py",
   "mimetype": "text/x-python",
   "name": "python",
   "nbconvert_exporter": "python",
   "pygments_lexer": "ipython3",
   "version": "3.6.15"
  }
 },
 "nbformat": 4,
 "nbformat_minor": 1
}
